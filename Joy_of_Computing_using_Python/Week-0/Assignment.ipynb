{
 "cells": [
  {
   "cell_type": "markdown",
   "id": "87c484e8",
   "metadata": {},
   "source": [
    "# Week 0: Assignment 0\n"
   ]
  },
  {
   "cell_type": "markdown",
   "id": "c840f7ac",
   "metadata": {},
   "source": [
    "*1) The area of a circle A is the sum of areas of two small circles of diameter 10cm and 24 cm, the diameter of the circle A is?*\n",
    "\n",
    "- a) 14 \n",
    "- b) 26 ✅\n",
    "- c) 17\n",
    "- d) 34"
   ]
  },
  {
   "cell_type": "markdown",
   "id": "c364af2f",
   "metadata": {},
   "source": [
    "*2) If a couple of dice are thrown together what will be the probability of getting the same number on both dice?*\n",
    "\n",
    "- a) 1/6 ✅\n",
    "- b) 1/36\n",
    "- c) 1/12\n",
    "- d) 1/3"
   ]
  },
  {
   "cell_type": "markdown",
   "id": "daf1454c",
   "metadata": {},
   "source": [
    "*3) The sum of the first 10 odd natural numbers is ____.*\n",
    "\n",
    "- a) 200\n",
    "- b) 210\n",
    "- c) 100 ✅\n",
    "- d) 400"
   ]
  },
  {
   "cell_type": "markdown",
   "id": "57b3caac",
   "metadata": {},
   "source": [
    "*4) What is the smallest number divisible by both 18 and 57?*\n",
    "\n",
    "- a) 400\n",
    "- b) 350 \n",
    "- c) 260\n",
    "- d) 342 ✅"
   ]
  },
  {
   "cell_type": "markdown",
   "id": "0e7c9415",
   "metadata": {},
   "source": [
    "*5) Total number of factors any prime number has?*\n",
    "\n",
    "- a) 3 \n",
    "- b) 2 ✅\n",
    "- c) 0\n",
    "- d) 1"
   ]
  },
  {
   "cell_type": "markdown",
   "id": "4e0c2da1",
   "metadata": {},
   "source": [
    "*6) The HFC of 12 and 18 is?*\n",
    "\n",
    "- a) 2\n",
    "- b) 3\n",
    "- c) 4\n",
    "- d) 6 ✅"
   ]
  },
  {
   "cell_type": "markdown",
   "id": "ad59a32b",
   "metadata": {},
   "source": [
    "*7) If two dice are thrown together what is the probability of getting an even number on both dice?*\n",
    "\n",
    "- a) 1/6\n",
    "- b) 1/36 \n",
    "- c) 1/4 ✅\n",
    "- d) 1/2"
   ]
  },
  {
   "cell_type": "markdown",
   "id": "01dfdba4",
   "metadata": {},
   "source": [
    "*8) If a number between 1 and 30 is chosen at random what is the probability of getting a prime number?*\n",
    "\n",
    "- a) 2/3\n",
    "- b) 1/3 ✅\n",
    "- c) 1/6 \n",
    "- d) 11/13"
   ]
  },
  {
   "cell_type": "markdown",
   "id": "eebd56d5",
   "metadata": {},
   "source": [
    "*9) If the radius of a circle doubles, how does the area of the circle change?*\n",
    "\n",
    "- a) Increases by 2 times\n",
    "- b) Increases by 4 times ✅\n",
    "- c) Increases by 8 times\n",
    "- d) Increases by 16 times "
   ]
  },
  {
   "cell_type": "markdown",
   "id": "922a4fac",
   "metadata": {},
   "source": [
    "*10) If the perimeter of a circle is equal to that of a square, then the ratio of their areas is*\n",
    "\n",
    "- a) 22:7\n",
    "- b) 14:11 ✅\n",
    "- c) 7:22\n",
    "- d) 11:14"
   ]
  }
 ],
 "metadata": {
  "kernelspec": {
   "display_name": "Python 3",
   "language": "python",
   "name": "python3"
  },
  "language_info": {
   "codemirror_mode": {
    "name": "ipython",
    "version": 3
   },
   "file_extension": ".py",
   "mimetype": "text/x-python",
   "name": "python",
   "nbconvert_exporter": "python",
   "pygments_lexer": "ipython3",
   "version": "3.8.5"
  }
 },
 "nbformat": 4,
 "nbformat_minor": 5
}
