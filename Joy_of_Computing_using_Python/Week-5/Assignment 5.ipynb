{
 "cells": [
  {
   "cell_type": "markdown",
   "id": "0e11669e",
   "metadata": {},
   "source": [
    "# Week 5: Assignment 5"
   ]
  },
  {
   "cell_type": "markdown",
   "id": "e1b97d99",
   "metadata": {},
   "source": [
    "*1) Imagine the Monty Hall problem had four doors instead of three, and Monty opened one door to reveal a goat after your initial choice, what would be the probability of winning the car by switching?*\n",
    "\n",
    "- a) 1/2 \n",
    "- b) 1/3\n",
    "- c) 1/4 \n",
    "- d) 3/4 ✅"
   ]
  },
  {
   "attachments": {},
   "cell_type": "markdown",
   "id": "97467a14",
   "metadata": {},
   "source": [
    "*2) What happens if you try to add a new key-value pair to a dictionary using a key that already exists in the dictionary?*\n",
    "\n",
    "- a) The new value overwrites the existing value ✅\n",
    "- b) An error is raised\n",
    "- c) The dictionary becomes immutable\n",
    "- d) The new value is appended to the existing value "
   ]
  },
  {
   "cell_type": "markdown",
   "id": "cfc95752",
   "metadata": {},
   "source": [
    "*3) The extended version of \"Rock, Paper, Scissors\" with \"Lizard\" and \"Spock\" was popularized by the TV show \"The Big Bang Theory.\" Here are the rules for \"Rock, Paper, Scissors, Lizard, Spock\":*\n",
    "\n",
    "*- Rock wins against Scissors.*\n",
    "\n",
    "*- Scissors wins against Paper.*\n",
    "\n",
    "*- Paper wins against Rock.*\n",
    "\n",
    "*- Rock wins against Lizard.*\n",
    "\n",
    "*- Lizard wins against Spock.*\n",
    "\n",
    "*- Spock wins against Scissors.*\n",
    "\n",
    "*- Scissors wins against Lizard.*\n",
    "\n",
    "*- Lizard wins against Paper.*\n",
    "\n",
    "*- Paper wins against Spock.*\n",
    "\n",
    "*- Spock wins against Rock.*\n",
    "\n",
    "*Each option can defeat two other options, lose to two other options, and draw with one other option.*\n",
    "\n",
    "*Now, the major steps involved in the algorithm for coding a rock-paper-scissors game as discussed in the lecture include:*\n",
    "\n",
    "*1) Assigning values to the choices: The algorithm involves assigning numerical values to the rock, paper, and scissors choices, such as 1 for rock, 2 for paper, and 3 for scissors.*\n",
    "\n",
    "*2) Inputting user choices: The algorithm prompts the users to input their choices for the game, such as rock, paper, or scissors.*\n",
    "\n",
    "*3) Secret bit positions: The algorithm uses secret bit positions to determine the winner of the game, which involves bitwise operations to compare the choices and determine the outcome.*\n",
    "\n",
    "*4) Coding the rules: The algorithm includes coding the rules for determining the winner based on the choices made by the players, such as using if-else conditions to compare the choices and declare the winner.*\n",
    "\n",
    "*5) Running the program: The algorithm allows for running the program to test the rock- paper-scissors game with different user inputs and provides examples of the game outcomes.*\n",
    "\n",
    "*What would be the possible change in steps for running “Rock, Paper, Scissors, Lizard, Spock\"?*\n",
    "\n",
    "- a) Step 1 would involve assigning 5 values to choices instead of 3 \n",
    "- b) The bitwise operations involved in Step 3 would involve modulo operation with 5 instead of 3\n",
    "- c) None of the above\n",
    "- d) All the above ✅"
   ]
  },
  {
   "cell_type": "markdown",
   "id": "af36a3dc",
   "metadata": {},
   "source": [
    "*4) How does Bubble Sort compare elements in an array?*\n",
    "\n",
    "- a) Compares adjacent elements and swaps if they are in the wrong order ✅\n",
    "- b) Compares random elements in the array\n",
    "- c) Compares all elements with the first element\n",
    "- d) Compares elements in reverse order"
   ]
  },
  {
   "cell_type": "markdown",
   "id": "214dd0aa",
   "metadata": {},
   "source": [
    "*5) To sort a list in ascending order when does Bubble Sort exhibit poor performance?*\n",
    "\n",
    "- a) When the list is sorted in ascending order\n",
    "- b) When the list is sorted in descending order ✅\n",
    "- c) When the list contains unique elements\n",
    "- d) Bubble Sort always exhibits poor performance"
   ]
  },
  {
   "cell_type": "markdown",
   "id": "ad7ae296",
   "metadata": {},
   "source": [
    "*6) How many passes does Bubble Sort make through the array in the worst-case scenario for sorting n elements?*\n",
    "\n",
    "- a) n \n",
    "- b) n-1 ✅\n",
    "- c) 2n\n",
    "- d) n^2"
   ]
  },
  {
   "attachments": {},
   "cell_type": "markdown",
   "id": "78a03697",
   "metadata": {},
   "source": [
    "*7) How many pairs of adjacent elements are compared in a single pass of the bubble sort algorithm?*\n",
    "\n",
    "- a) n\n",
    "- b) n-1 ✅\n",
    "- c) n/2 \n",
    "- d) 2n"
   ]
  },
  {
   "attachments": {},
   "cell_type": "markdown",
   "id": "76b9f824",
   "metadata": {},
   "source": [
    "*8) The following steps are required to implement the binary search for an array sorted in ascending order.*\n",
    "\n",
    "*1)Initialize Pointers: - Set two pointers, `low` and `high`, initially pointing to the start and end of the array, respectively.*\n",
    "\n",
    "*2) Calculate Midpoint: - Calculate the midpoint index using the formula `mid = (low + high) // 2`.*\n",
    "\n",
    "*3) Compare Midpoint Element:*\n",
    "   * Compare the element at the midpoint with the target element you are searching for:*\n",
    "\t\t- If the midpoint element is equal to the target, the search is successful, and you can return the index.\n",
    "\t\t- If the midpoint element is less than the target, update `low` to `mid + 1` and continue the search in the right half.\n",
    "\t\t- If the midpoint element is greater than the target, update `high` to `mid - 1` and continue the search in the left half.\n",
    "\n",
    "*4) Repeat: - Repeat steps 3-4 until the `low` pointer is greater than the `high` pointer. This means the search range has become empty.*\n",
    "\n",
    "*5) Return Result: - If the target element is found, return its index. If the target is not found, return a sentinel value (e.g.,-1) to indicate that the element is not in the array.*\n",
    "\n",
    "*Which steps would require modification if the array were sorted in descending order?*\n",
    "\n",
    "- a) Step 2\n",
    "- b) Step 4\n",
    "- c) Step 2 and 4 ✅\n",
    "- d) No modification in steps"
   ]
  },
  {
   "cell_type": "markdown",
   "id": "de79a615",
   "metadata": {},
   "source": [
    "*9) Select the correct statements among the following*\n",
    "\n",
    "- a) In the presence of duplicate elements in a list, binary search always finds the first occurrence of the element in the list\n",
    "- b) In the presence of duplicate elements in a list, binary search may or may not find the first occurrence of the element in the list ✅\n",
    "- c) In the presence of duplicate elements in a list, the existing binary search algorithm with minor modifications can be used to find the first occurrence of the target element in the list ✅\n",
    "- d) In the presence of duplicate elements in a list , the existing binary search can be used to find any kth(k can be any number from 1 to number of times the element has been repeated) of target element in the list"
   ]
  },
  {
   "attachments": {},
   "cell_type": "markdown",
   "id": "a916c736",
   "metadata": {},
   "source": [
    "*10) Swapping of two numbers is an intermediate step in any sorting algorithm, In the lecture we use a temporary variable to swap two elements in the list.*\n",
    "\n",
    "*Can swapping of two numbers be done without using a temporary variable?*\n",
    "\n",
    "- a) Yes ✅\n",
    "- b) No\n",
    "- c) Depends on size of list\n",
    "- d) Depends on nature of elements in the list"
   ]
  }
 ],
 "metadata": {
  "kernelspec": {
   "display_name": "Python 3",
   "language": "python",
   "name": "python3"
  },
  "language_info": {
   "codemirror_mode": {
    "name": "ipython",
    "version": 3
   },
   "file_extension": ".py",
   "mimetype": "text/x-python",
   "name": "python",
   "nbconvert_exporter": "python",
   "pygments_lexer": "ipython3",
   "version": "3.8.5"
  }
 },
 "nbformat": 4,
 "nbformat_minor": 5
}
